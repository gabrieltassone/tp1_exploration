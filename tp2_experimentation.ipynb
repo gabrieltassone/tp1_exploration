{
 "cells": [
  {
   "cell_type": "markdown",
   "metadata": {},
   "source": [
    "## Trabajo Práctico Machine Learning Experimentación"
   ]
  },
  {
   "cell_type": "code",
   "execution_count": 1,
   "metadata": {},
   "outputs": [],
   "source": [
    "import numpy as np\n",
    "import pandas as pd\n",
    "%matplotlib inline\n",
    "from matplotlib import pyplot as plt\n",
    "import seaborn as sns\n",
    "import zipfile\n",
    "from sklearn.model_selection import train_test_split\n",
    "from sklearn.metrics import accuracy_score, precision_score, recall_score, confusion_matrix"
   ]
  },
  {
   "cell_type": "markdown",
   "metadata": {},
   "source": [
    "Según lo definido en el TP anterior: \n",
    "\n",
    "### Vamos a utilizar las siguientes variables como entradas\n",
    "\n",
    "* km\n",
    "* año_fabricacion\n",
    "* cilindrada\n",
    "* caballos_fuerza\n",
    "* tipo_carroceria\n",
    "* año_control\n",
    "* transmision\n",
    "* cantidad_puertas\n",
    "* cantidad_asientos\n",
    "* combustible\n",
    "\n",
    "Ante esto, decidimos descartar las columnas de combustible y año_control ya que ambas tenían más del 50% de valores nulos. "
   ]
  },
  {
   "cell_type": "code",
   "execution_count": 2,
   "metadata": {},
   "outputs": [
    {
     "name": "stderr",
     "output_type": "stream",
     "text": [
      "/home/gabrieltassone/.local/lib/python3.5/site-packages/IPython/core/interactiveshell.py:2728: DtypeWarning: Columns (10,11) have mixed types. Specify dtype option on import or set low_memory=False.\n",
      "  interactivity=interactivity, compiler=compiler, result=result)\n"
     ]
    }
   ],
   "source": [
    "zf = zipfile.ZipFile('Data/cars_ads.zip')\n",
    "datos = pd.read_csv(zf.open('cars_ads.csv'), usecols = ['mileage','manufacture_year', 'engine_displacement', 'engine_power', 'body_type', 'transmission', 'door_count', 'seat_count', 'price_eur'])"
   ]
  },
  {
   "cell_type": "code",
   "execution_count": 3,
   "metadata": {},
   "outputs": [],
   "source": [
    "NOMBRES_COLUMNAS = {\n",
    "    'mileage' : 'km',\n",
    "    'manufacture_year' : 'año_fabricacion',\n",
    "    'engine_displacement' : 'cilindrada',\n",
    "    'engine_power' : 'caballos_fuerza',\n",
    "    'body_type' : 'tipo_carroceria',\n",
    "    'transmission' : 'transmision',\n",
    "    'door_count' : 'cantidad_puertas',\n",
    "    'seat_count' : 'cantidad_asientos',\n",
    "    'price_eur' : 'precio'\n",
    "}\n",
    "datos.rename(columns=NOMBRES_COLUMNAS, inplace=True)"
   ]
  },
  {
   "cell_type": "code",
   "execution_count": 4,
   "metadata": {
    "scrolled": true
   },
   "outputs": [
    {
     "data": {
      "text/html": [
       "<div>\n",
       "<style scoped>\n",
       "    .dataframe tbody tr th:only-of-type {\n",
       "        vertical-align: middle;\n",
       "    }\n",
       "\n",
       "    .dataframe tbody tr th {\n",
       "        vertical-align: top;\n",
       "    }\n",
       "\n",
       "    .dataframe thead th {\n",
       "        text-align: right;\n",
       "    }\n",
       "</style>\n",
       "<table border=\"1\" class=\"dataframe\">\n",
       "  <thead>\n",
       "    <tr style=\"text-align: right;\">\n",
       "      <th></th>\n",
       "      <th>km</th>\n",
       "      <th>año_fabricacion</th>\n",
       "      <th>cilindrada</th>\n",
       "      <th>caballos_fuerza</th>\n",
       "      <th>tipo_carroceria</th>\n",
       "      <th>transmision</th>\n",
       "      <th>cantidad_puertas</th>\n",
       "      <th>cantidad_asientos</th>\n",
       "      <th>precio</th>\n",
       "    </tr>\n",
       "  </thead>\n",
       "  <tbody>\n",
       "    <tr>\n",
       "      <th>0</th>\n",
       "      <td>151000.0</td>\n",
       "      <td>2011.0</td>\n",
       "      <td>2000.0</td>\n",
       "      <td>103.0</td>\n",
       "      <td>NaN</td>\n",
       "      <td>man</td>\n",
       "      <td>5</td>\n",
       "      <td>7</td>\n",
       "      <td>10584.75</td>\n",
       "    </tr>\n",
       "    <tr>\n",
       "      <th>1</th>\n",
       "      <td>143476.0</td>\n",
       "      <td>2012.0</td>\n",
       "      <td>2000.0</td>\n",
       "      <td>81.0</td>\n",
       "      <td>NaN</td>\n",
       "      <td>man</td>\n",
       "      <td>5</td>\n",
       "      <td>5</td>\n",
       "      <td>8882.31</td>\n",
       "    </tr>\n",
       "    <tr>\n",
       "      <th>2</th>\n",
       "      <td>97676.0</td>\n",
       "      <td>2010.0</td>\n",
       "      <td>1995.0</td>\n",
       "      <td>85.0</td>\n",
       "      <td>NaN</td>\n",
       "      <td>man</td>\n",
       "      <td>5</td>\n",
       "      <td>5</td>\n",
       "      <td>12065.06</td>\n",
       "    </tr>\n",
       "    <tr>\n",
       "      <th>3</th>\n",
       "      <td>111970.0</td>\n",
       "      <td>2004.0</td>\n",
       "      <td>1200.0</td>\n",
       "      <td>47.0</td>\n",
       "      <td>NaN</td>\n",
       "      <td>man</td>\n",
       "      <td>5</td>\n",
       "      <td>5</td>\n",
       "      <td>2960.77</td>\n",
       "    </tr>\n",
       "    <tr>\n",
       "      <th>4</th>\n",
       "      <td>128886.0</td>\n",
       "      <td>2004.0</td>\n",
       "      <td>1200.0</td>\n",
       "      <td>47.0</td>\n",
       "      <td>NaN</td>\n",
       "      <td>man</td>\n",
       "      <td>5</td>\n",
       "      <td>5</td>\n",
       "      <td>2738.71</td>\n",
       "    </tr>\n",
       "  </tbody>\n",
       "</table>\n",
       "</div>"
      ],
      "text/plain": [
       "         km  año_fabricacion  cilindrada  caballos_fuerza tipo_carroceria  \\\n",
       "0  151000.0           2011.0      2000.0            103.0             NaN   \n",
       "1  143476.0           2012.0      2000.0             81.0             NaN   \n",
       "2   97676.0           2010.0      1995.0             85.0             NaN   \n",
       "3  111970.0           2004.0      1200.0             47.0             NaN   \n",
       "4  128886.0           2004.0      1200.0             47.0             NaN   \n",
       "\n",
       "  transmision cantidad_puertas cantidad_asientos    precio  \n",
       "0         man                5                 7  10584.75  \n",
       "1         man                5                 5   8882.31  \n",
       "2         man                5                 5  12065.06  \n",
       "3         man                5                 5   2960.77  \n",
       "4         man                5                 5   2738.71  "
      ]
     },
     "execution_count": 4,
     "metadata": {},
     "output_type": "execute_result"
    }
   ],
   "source": [
    "datos.head()"
   ]
  },
  {
   "cell_type": "markdown",
   "metadata": {},
   "source": [
    "#### Valores nulos\n",
    "\n",
    "Si bien no es lo que debería hacerse en la realidad, a modo de simplificar el problema y debido a que contábamos con una gran cantidad de registros (3500000 aproximadamente), decidimos eliminar las filas con valores nulos. \n",
    "\n",
    "En caso de enfrentarse con algo similar en una situación de trabajo o en una investigación, habría que dar un mejor tratamiento a los registros con valores nulos como ser completarlos con valores promedios, solicitar o buscar más datos para poder completarlos, o aplicar otras técnicas para no tener que desechar gran cantidad de datos que podrían ser útiles."
   ]
  },
  {
   "cell_type": "code",
   "execution_count": 5,
   "metadata": {},
   "outputs": [],
   "source": [
    "datos = datos.dropna()"
   ]
  },
  {
   "cell_type": "code",
   "execution_count": 6,
   "metadata": {
    "scrolled": true
   },
   "outputs": [
    {
     "data": {
      "text/plain": [
       "km                   float64\n",
       "año_fabricacion      float64\n",
       "cilindrada           float64\n",
       "caballos_fuerza      float64\n",
       "tipo_carroceria       object\n",
       "transmision           object\n",
       "cantidad_puertas      object\n",
       "cantidad_asientos     object\n",
       "precio               float64\n",
       "dtype: object"
      ]
     },
     "execution_count": 6,
     "metadata": {},
     "output_type": "execute_result"
    }
   ],
   "source": [
    "datos.dtypes"
   ]
  },
  {
   "cell_type": "code",
   "execution_count": 7,
   "metadata": {},
   "outputs": [
    {
     "name": "stdout",
     "output_type": "stream",
     "text": [
      "Cantidad de nulos de cada variable\n",
      " \n",
      "km - 0\n",
      "año_fabricacion - 0\n",
      "cilindrada - 0\n",
      "caballos_fuerza - 0\n",
      "tipo_carroceria - 0\n",
      "transmision - 0\n",
      "cantidad_puertas - 0\n",
      "cantidad_asientos - 0\n"
     ]
    }
   ],
   "source": [
    "print('Cantidad de nulos de cada variable')\n",
    "print(' ')\n",
    "print('km - ' + str(datos.km.isnull().sum()))\n",
    "print('año_fabricacion - ' + str(datos.año_fabricacion.isnull().sum()))\n",
    "print('cilindrada - ' + str(datos.cilindrada.isnull().sum()))\n",
    "print('caballos_fuerza - ' + str(datos.caballos_fuerza.isnull().sum()))\n",
    "print('tipo_carroceria - ' + str(datos.tipo_carroceria.isnull().sum()))\n",
    "print('transmision - ' + str(datos.transmision.isnull().sum()))\n",
    "print('cantidad_puertas - ' + str(datos.cantidad_puertas.isnull().sum()))\n",
    "print('cantidad_asientos - ' + str(datos.cantidad_asientos.isnull().sum()))"
   ]
  },
  {
   "cell_type": "markdown",
   "metadata": {},
   "source": [
    "### Pre-procesado de los datos\n",
    "\n",
    "Ante esta cantidad de datos nulos y los distintos tipos de datos que tendríamos como entradas, nos vemos obligados a hacer ciertos cambios en el dataset para que sirvan como entradas a los distintos modelos que vamos a entrenar. "
   ]
  },
  {
   "cell_type": "code",
   "execution_count": 8,
   "metadata": {},
   "outputs": [],
   "source": [
    "conditions = [\n",
    "    (datos['precio'] < 4000),\n",
    "    (datos['precio'] >= 4000) & (datos['precio'] <= 10000),\n",
    "    (datos['precio'] > 10000)]\n",
    "choices = ['A', 'B', 'C']\n",
    "datos['categoria_auto'] = np.select(conditions, choices)\n",
    "\n",
    "conditions = [\n",
    "    (datos['precio'] < 4000),\n",
    "    (datos['precio'] >= 4000) & (datos['precio'] <= 10000),\n",
    "    (datos['precio'] > 10000)]\n",
    "choices = [0,1,2]\n",
    "datos['categoria_auto_numerica'] = np.select(conditions, choices)"
   ]
  },
  {
   "cell_type": "code",
   "execution_count": 9,
   "metadata": {},
   "outputs": [
    {
     "data": {
      "text/plain": [
       "(1179100, 11)"
      ]
     },
     "execution_count": 9,
     "metadata": {},
     "output_type": "execute_result"
    }
   ],
   "source": [
    "datos.shape"
   ]
  },
  {
   "cell_type": "markdown",
   "metadata": {},
   "source": [
    "#### Variable transmision\n",
    "\n",
    "Transformamos la variable transmision de manual o automática a 0 o 1, ya que muchos de los modelos que vamos a utilizar sólo aceptan valores numéricos como entradas."
   ]
  },
  {
   "cell_type": "code",
   "execution_count": 10,
   "metadata": {},
   "outputs": [],
   "source": [
    "conditions = [\n",
    "    (datos['transmision'] == 'man'),\n",
    "    (datos['transmision'] == 'auto')]\n",
    "choices = [0, 1]\n",
    "datos['transmision'] = np.select(conditions, choices)"
   ]
  },
  {
   "cell_type": "markdown",
   "metadata": {},
   "source": [
    "#### Variable tipo_carroceria \n",
    "\n",
    "Reemplazamos la variable tipo carrocería por números del 1 al 9, asignando uno a cada tipo de carrocería posible."
   ]
  },
  {
   "cell_type": "code",
   "execution_count": 11,
   "metadata": {},
   "outputs": [],
   "source": [
    "conditions = [\n",
    "    (datos['tipo_carroceria'] == 'van'),(datos['tipo_carroceria'] == 'compact'),\n",
    "    (datos['tipo_carroceria'] == 'transporter'),(datos['tipo_carroceria'] == 'coupe'),\n",
    "    (datos['tipo_carroceria'] == 'convertible'),(datos['tipo_carroceria'] == 'sedan'),\n",
    "    (datos['tipo_carroceria'] == 'stationwagon'),(datos['tipo_carroceria'] == 'offroad'),\n",
    "    (datos['tipo_carroceria'] == 'other')]\n",
    "choices = [1, 2, 3, 4, 5, 6, 7, 8, 9]\n",
    "datos['tipo_carroceria'] = np.select(conditions, choices)"
   ]
  },
  {
   "cell_type": "markdown",
   "metadata": {},
   "source": [
    "#### Variable año_fabricacion\n",
    "\n",
    "Determinamos que el año mínimo de fabricación de los autos va a ser 1970, esto lo hacemos a modo de eliminar outliers de datos posiblemente mal cargados. "
   ]
  },
  {
   "cell_type": "code",
   "execution_count": 12,
   "metadata": {},
   "outputs": [],
   "source": [
    "datos.loc[datos.año_fabricacion < 1970.0, 'año_fabricacion'] = 1970.0"
   ]
  },
  {
   "cell_type": "markdown",
   "metadata": {},
   "source": [
    "#### Variable cilindrada\n",
    "\n",
    "Decidimos que la cilindrada máxima de los autos va a ser de 5000.0 (que si bien es alto, habia datos que sobrepasaban esa cilindrada y no es algo que se vea en el día a día), por lo que los autos que hayan cargado más que esa cantidad se le va a asignar 5000. "
   ]
  },
  {
   "cell_type": "code",
   "execution_count": 13,
   "metadata": {},
   "outputs": [],
   "source": [
    "datos.loc[datos.cilindrada > 5000.0, 'cilindrada'] = 5000.0"
   ]
  },
  {
   "cell_type": "markdown",
   "metadata": {},
   "source": [
    "#### Variable cantidad_puertas\n",
    "\n",
    "Modificamos esta columna a tipo de dato numerico o float ya que, por ejemplo, había autos cargados con 5 puertas y autos cargados con 5.0 puertas lo que se tomaba como dos cantidades diferentes cuando eran la misma."
   ]
  },
  {
   "cell_type": "code",
   "execution_count": 14,
   "metadata": {},
   "outputs": [],
   "source": [
    "datos.cantidad_puertas = pd.to_numeric(datos.cantidad_puertas, errors='coerce')"
   ]
  },
  {
   "cell_type": "markdown",
   "metadata": {},
   "source": [
    "#### Variable cantidad_asientos \n",
    "\n",
    "Mismo caso que el anterior. No trabajamos con el tema de outliers ya que había algunos registros con entre 30 y 50 asientos, y desconocemos si dentro de la categoría de auto transporter o en alguna otra puede haber vehículos de estilo trafic o colectivos que puedan tener esa cantidad de asientos. "
   ]
  },
  {
   "cell_type": "code",
   "execution_count": 15,
   "metadata": {},
   "outputs": [],
   "source": [
    "datos.cantidad_asientos = pd.to_numeric(datos.cantidad_asientos, errors='coerce')"
   ]
  },
  {
   "cell_type": "code",
   "execution_count": 16,
   "metadata": {},
   "outputs": [],
   "source": [
    "datos = datos.dropna()"
   ]
  },
  {
   "cell_type": "markdown",
   "metadata": {},
   "source": [
    "#### Variable km\n",
    "\n",
    "Para la variable km aplicamos la técnica de feature engineering de redondeo ya que consideramos que una diferencia menor a 100 o 1000 KM no debería influir demasiado en el precio del auto, e incluso podría ayudar a sobreentrenar el modelo, por lo que también sería una técnica útil para prevenir el sobreentrenamiento."
   ]
  },
  {
   "cell_type": "code",
   "execution_count": 17,
   "metadata": {},
   "outputs": [],
   "source": [
    "datos.km = (datos.km / 1000).astype(int) * 1000"
   ]
  },
  {
   "cell_type": "code",
   "execution_count": 18,
   "metadata": {},
   "outputs": [],
   "source": [
    "datos = datos.drop_duplicates()"
   ]
  },
  {
   "cell_type": "code",
   "execution_count": 19,
   "metadata": {},
   "outputs": [
    {
     "data": {
      "text/plain": [
       "(963080, 11)"
      ]
     },
     "execution_count": 19,
     "metadata": {},
     "output_type": "execute_result"
    }
   ],
   "source": [
    "datos.shape"
   ]
  },
  {
   "cell_type": "code",
   "execution_count": 20,
   "metadata": {},
   "outputs": [
    {
     "data": {
      "text/html": [
       "<div>\n",
       "<style scoped>\n",
       "    .dataframe tbody tr th:only-of-type {\n",
       "        vertical-align: middle;\n",
       "    }\n",
       "\n",
       "    .dataframe tbody tr th {\n",
       "        vertical-align: top;\n",
       "    }\n",
       "\n",
       "    .dataframe thead th {\n",
       "        text-align: right;\n",
       "    }\n",
       "</style>\n",
       "<table border=\"1\" class=\"dataframe\">\n",
       "  <thead>\n",
       "    <tr style=\"text-align: right;\">\n",
       "      <th></th>\n",
       "      <th>km</th>\n",
       "      <th>año_fabricacion</th>\n",
       "      <th>cilindrada</th>\n",
       "      <th>caballos_fuerza</th>\n",
       "      <th>tipo_carroceria</th>\n",
       "      <th>transmision</th>\n",
       "      <th>cantidad_puertas</th>\n",
       "      <th>cantidad_asientos</th>\n",
       "      <th>precio</th>\n",
       "      <th>categoria_auto</th>\n",
       "      <th>categoria_auto_numerica</th>\n",
       "    </tr>\n",
       "  </thead>\n",
       "  <tbody>\n",
       "    <tr>\n",
       "      <th>507</th>\n",
       "      <td>203000</td>\n",
       "      <td>2011.0</td>\n",
       "      <td>2143.0</td>\n",
       "      <td>120.0</td>\n",
       "      <td>1</td>\n",
       "      <td>0</td>\n",
       "      <td>5.0</td>\n",
       "      <td>5.0</td>\n",
       "      <td>22168.76</td>\n",
       "      <td>C</td>\n",
       "      <td>2</td>\n",
       "    </tr>\n",
       "    <tr>\n",
       "      <th>577</th>\n",
       "      <td>245000</td>\n",
       "      <td>2007.0</td>\n",
       "      <td>2461.0</td>\n",
       "      <td>96.0</td>\n",
       "      <td>1</td>\n",
       "      <td>0</td>\n",
       "      <td>5.0</td>\n",
       "      <td>9.0</td>\n",
       "      <td>8475.20</td>\n",
       "      <td>B</td>\n",
       "      <td>1</td>\n",
       "    </tr>\n",
       "    <tr>\n",
       "      <th>583</th>\n",
       "      <td>248000</td>\n",
       "      <td>2005.0</td>\n",
       "      <td>2461.0</td>\n",
       "      <td>128.0</td>\n",
       "      <td>1</td>\n",
       "      <td>0</td>\n",
       "      <td>5.0</td>\n",
       "      <td>8.0</td>\n",
       "      <td>9215.40</td>\n",
       "      <td>B</td>\n",
       "      <td>1</td>\n",
       "    </tr>\n",
       "    <tr>\n",
       "      <th>898</th>\n",
       "      <td>137000</td>\n",
       "      <td>2011.0</td>\n",
       "      <td>2000.0</td>\n",
       "      <td>103.0</td>\n",
       "      <td>1</td>\n",
       "      <td>0</td>\n",
       "      <td>5.0</td>\n",
       "      <td>5.0</td>\n",
       "      <td>9437.45</td>\n",
       "      <td>B</td>\n",
       "      <td>1</td>\n",
       "    </tr>\n",
       "    <tr>\n",
       "      <th>1007</th>\n",
       "      <td>182000</td>\n",
       "      <td>2002.0</td>\n",
       "      <td>1795.0</td>\n",
       "      <td>90.0</td>\n",
       "      <td>1</td>\n",
       "      <td>0</td>\n",
       "      <td>5.0</td>\n",
       "      <td>5.0</td>\n",
       "      <td>1073.28</td>\n",
       "      <td>A</td>\n",
       "      <td>0</td>\n",
       "    </tr>\n",
       "  </tbody>\n",
       "</table>\n",
       "</div>"
      ],
      "text/plain": [
       "          km  año_fabricacion  cilindrada  caballos_fuerza  tipo_carroceria  \\\n",
       "507   203000           2011.0      2143.0            120.0                1   \n",
       "577   245000           2007.0      2461.0             96.0                1   \n",
       "583   248000           2005.0      2461.0            128.0                1   \n",
       "898   137000           2011.0      2000.0            103.0                1   \n",
       "1007  182000           2002.0      1795.0             90.0                1   \n",
       "\n",
       "      transmision  cantidad_puertas  cantidad_asientos    precio  \\\n",
       "507             0               5.0                5.0  22168.76   \n",
       "577             0               5.0                9.0   8475.20   \n",
       "583             0               5.0                8.0   9215.40   \n",
       "898             0               5.0                5.0   9437.45   \n",
       "1007            0               5.0                5.0   1073.28   \n",
       "\n",
       "     categoria_auto  categoria_auto_numerica  \n",
       "507               C                        2  \n",
       "577               B                        1  \n",
       "583               B                        1  \n",
       "898               B                        1  \n",
       "1007              A                        0  "
      ]
     },
     "execution_count": 20,
     "metadata": {},
     "output_type": "execute_result"
    }
   ],
   "source": [
    "datos.head()"
   ]
  },
  {
   "cell_type": "code",
   "execution_count": 21,
   "metadata": {},
   "outputs": [
    {
     "data": {
      "text/plain": [
       "km                           int64\n",
       "año_fabricacion            float64\n",
       "cilindrada                 float64\n",
       "caballos_fuerza            float64\n",
       "tipo_carroceria              int64\n",
       "transmision                  int64\n",
       "cantidad_puertas           float64\n",
       "cantidad_asientos          float64\n",
       "precio                     float64\n",
       "categoria_auto              object\n",
       "categoria_auto_numerica      int64\n",
       "dtype: object"
      ]
     },
     "execution_count": 21,
     "metadata": {},
     "output_type": "execute_result"
    }
   ],
   "source": [
    "datos.dtypes"
   ]
  },
  {
   "cell_type": "code",
   "execution_count": 22,
   "metadata": {},
   "outputs": [
    {
     "name": "stdout",
     "output_type": "stream",
     "text": [
      "Cantidad de nulos de cada variable\n",
      " \n",
      "km - 0\n",
      "año_fabricacion - 0\n",
      "cilindrada - 0\n",
      "caballos_fuerza - 0\n",
      "tipo_carroceria - 0\n",
      "transmision - 0\n",
      "cantidad_puertas - 0\n",
      "cantidad_asientos - 0\n"
     ]
    }
   ],
   "source": [
    "print('Cantidad de nulos de cada variable')\n",
    "print(' ')\n",
    "print('km - ' + str(datos.km.isnull().sum()))\n",
    "print('año_fabricacion - ' + str(datos.año_fabricacion.isnull().sum()))\n",
    "print('cilindrada - ' + str(datos.cilindrada.isnull().sum()))\n",
    "print('caballos_fuerza - ' + str(datos.caballos_fuerza.isnull().sum()))\n",
    "print('tipo_carroceria - ' + str(datos.tipo_carroceria.isnull().sum()))\n",
    "print('transmision - ' + str(datos.transmision.isnull().sum()))\n",
    "print('cantidad_puertas - ' + str(datos.cantidad_puertas.isnull().sum()))\n",
    "print('cantidad_asientos - ' + str(datos.cantidad_asientos.isnull().sum()))"
   ]
  },
  {
   "cell_type": "markdown",
   "metadata": {},
   "source": [
    "Separamos el dataset en train, test y validation"
   ]
  },
  {
   "cell_type": "code",
   "execution_count": 23,
   "metadata": {},
   "outputs": [],
   "source": [
    "train, not_train = train_test_split(datos, test_size=0.4)\n",
    "validation, test = train_test_split(not_train, test_size=0.5)"
   ]
  },
  {
   "cell_type": "code",
   "execution_count": 24,
   "metadata": {},
   "outputs": [],
   "source": [
    "def evaluate_model(model, extract_inputs_function, extract_outputs_function, include_validation=False):\n",
    "    sets = [('train', train), ('test', test), ('validation', validation)]\n",
    "    if include_validation:\n",
    "        sets.append(('validation', validation))\n",
    "        \n",
    "    for set_name, set_data in sets:\n",
    "        inputs = extract_inputs_function(set_data)\n",
    "        outputs = extract_outputs_function(set_data)\n",
    "        predictions = model.predict(inputs)\n",
    "        \n",
    "        print(set_name, '#' * 80)\n",
    "        \n",
    "        # print metrics\n",
    "        \n",
    "        print('Accuracy:', accuracy_score(outputs, predictions))\n",
    "        print('precision_score', precision_score(outputs, predictions, average=\"macro\"))\n",
    "        print('recall', recall_score(outputs, predictions, average=\"macro\"))\n",
    "        print()\n",
    "        \n",
    "        # plot confussion matrix\n",
    "        \n",
    "        plt.figure(figsize=(3,4))\n",
    "        \n",
    "        plt.xticks([0, 1, 2], ['A', 'B', 'C'], rotation=45)\n",
    "        plt.yticks([0, 1, 2], ['A', 'B', 'C'])\n",
    "        plt.xlabel('Predicted class')\n",
    "        plt.ylabel('True class')\n",
    "\n",
    "        plt.title(set_name)\n",
    "\n",
    "        plt.imshow(\n",
    "            confusion_matrix(outputs, predictions), \n",
    "            cmap=plt.cm.Blues, \n",
    "            interpolation='nearest',\n",
    "        )\n",
    "\n",
    "        plt.show()"
   ]
  },
  {
   "cell_type": "markdown",
   "metadata": {},
   "source": [
    "### Definición de la métrica\n",
    "\n",
    "La métrica que vamos a utilizar va a ser \"accuracy\", esto nos va a permitir determinar en qué porcentaje acertó a la hora de predecir. \n",
    "\n",
    "Esta métrica suele ser útil en los problemas de clasificación, y dado que el nuestro es un problema de clasificación pensamos que es buena idea utilizarla como referencia. \n",
    "\n",
    "Otro motivo podría ser que, para nuestro caso, errar por SI o por NO no tiene diferente impacto, por lo que no tenemos necesidad de recurrir a otra métrica como recall o precission. "
   ]
  },
  {
   "cell_type": "markdown",
   "metadata": {},
   "source": [
    "### Primer modelo: Regresión Logística"
   ]
  },
  {
   "cell_type": "code",
   "execution_count": 25,
   "metadata": {},
   "outputs": [],
   "source": [
    "from sklearn.linear_model import LogisticRegression\n",
    "from sklearn.preprocessing import StandardScaler\n",
    "from sklearn.pipeline import Pipeline"
   ]
  },
  {
   "cell_type": "code",
   "execution_count": 26,
   "metadata": {},
   "outputs": [],
   "source": [
    "# final input columns, in the order we want to use them\n",
    "LR_INPUT_COLUMNS = [\n",
    "    'km','año_fabricacion', 'cilindrada', 'caballos_fuerza', \n",
    "    'tipo_carroceria', 'transmision', 'cantidad_puertas', 'cantidad_asientos',\n",
    "]\n",
    "\n",
    "\n",
    "def lr_extract_inputs(dataset):\n",
    "    \"\"\"\n",
    "    Inputs in the format supported by the logistic regressor.\n",
    "    \"\"\"\n",
    "    # we don't want to modify the original dataset, that we will use with other models\n",
    "    inputs = dataset.copy() \n",
    "    \n",
    "    # return the raw numbers\n",
    "    return inputs[LR_INPUT_COLUMNS].values.astype(np.float64)\n",
    "\n",
    "def lr_extract_outputs(dataset):\n",
    "    \"\"\"\n",
    "    Outputs in the format supported by the logistic regressor.\n",
    "    \"\"\"\n",
    "    return dataset.categoria_auto_numerica.values\n"
   ]
  },
  {
   "cell_type": "code",
   "execution_count": 27,
   "metadata": {},
   "outputs": [],
   "source": [
    "lr_model = Pipeline([\n",
    "    ('scaler', StandardScaler()),\n",
    "    ('classifier', LogisticRegression(multi_class='multinomial', solver='newton-cg')),\n",
    "])"
   ]
  },
  {
   "cell_type": "code",
   "execution_count": 28,
   "metadata": {},
   "outputs": [
    {
     "name": "stderr",
     "output_type": "stream",
     "text": [
      "/usr/local/lib/python3.5/dist-packages/scipy/optimize/linesearch.py:312: LineSearchWarning: The line search algorithm did not converge\n",
      "  warn('The line search algorithm did not converge', LineSearchWarning)\n",
      "/usr/local/lib/python3.5/dist-packages/sklearn/utils/optimize.py:195: UserWarning: Line Search failed\n",
      "  warnings.warn('Line Search failed')\n"
     ]
    },
    {
     "data": {
      "text/plain": [
       "Pipeline(memory=None,\n",
       "     steps=[('scaler', StandardScaler(copy=True, with_mean=True, with_std=True)), ('classifier', LogisticRegression(C=1.0, class_weight=None, dual=False, fit_intercept=True,\n",
       "          intercept_scaling=1, max_iter=100, multi_class='multinomial',\n",
       "          n_jobs=1, penalty='l2', random_state=None, solver='newton-cg',\n",
       "          tol=0.0001, verbose=0, warm_start=False))])"
      ]
     },
     "execution_count": 28,
     "metadata": {},
     "output_type": "execute_result"
    }
   ],
   "source": [
    "lr_model.fit(\n",
    "    lr_extract_inputs(train),\n",
    "    lr_extract_outputs(train),\n",
    ")"
   ]
  },
  {
   "cell_type": "code",
   "execution_count": 29,
   "metadata": {
    "scrolled": false
   },
   "outputs": [
    {
     "name": "stdout",
     "output_type": "stream",
     "text": [
      "train ################################################################################\n",
      "Accuracy: 0.760750231895\n",
      "precision_score 0.738488043019\n",
      "recall 0.720989798557\n",
      "\n"
     ]
    },
    {
     "data": {
      "image/png": "[encoded data removed]",
      "text/plain": [
       "<matplotlib.figure.Figure at 0x7f0c7ec0a2e8>"
      ]
     },
     "metadata": {},
     "output_type": "display_data"
    },
    {
     "name": "stdout",
     "output_type": "stream",
     "text": [
      "test ################################################################################\n",
      "Accuracy: 0.758747975246\n",
      "precision_score 0.736826100167\n",
      "recall 0.719533727787\n",
      "\n"
     ]
    },
    {
     "data": {
      "image/png": "[encoded data removed]",
      "text/plain": [
       "<matplotlib.figure.Figure at 0x7f0c862cb240>"
      ]
     },
     "metadata": {},
     "output_type": "display_data"
    },
    {
     "name": "stdout",
     "output_type": "stream",
     "text": [
      "validation ################################################################################\n",
      "Accuracy: 0.759614985256\n",
      "precision_score 0.737245968885\n",
      "recall 0.720461278183\n",
      "\n"
     ]
    },
    {
     "data": {
      "image/png": "[encoded data removed]",
      "text/plain": [
       "<matplotlib.figure.Figure at 0x7f0c8622c240>"
      ]
     },
     "metadata": {},
     "output_type": "display_data"
    }
   ],
   "source": [
    "evaluate_model(lr_model, lr_extract_inputs, lr_extract_outputs)"
   ]
  },
  {
   "cell_type": "markdown",
   "metadata": {},
   "source": [
    "#### Conclusiones\n",
    "\n",
    "Es un modelo muy rápido para poder tener una primer aproximación.\n",
    "\n",
    "El modelo predice con una accuracy de 0.7587 en testing y 0.7596 en validation. Para ser un modelo sencillo y muy rápido de ejecutar es un resultado bueno. "
   ]
  },
  {
   "cell_type": "markdown",
   "metadata": {},
   "source": [
    "### Segundo modelo: Árboles de decisión"
   ]
  },
  {
   "cell_type": "code",
   "execution_count": 30,
   "metadata": {},
   "outputs": [],
   "source": [
    "from sklearn.tree import DecisionTreeClassifier"
   ]
  },
  {
   "cell_type": "code",
   "execution_count": 31,
   "metadata": {},
   "outputs": [],
   "source": [
    "# final input columns, in the order we want to use them\n",
    "TREE_INPUT_COLUMNS = [\n",
    "    'km','año_fabricacion', 'cilindrada', 'caballos_fuerza', \n",
    "    'tipo_carroceria', 'transmision', 'cantidad_puertas', 'cantidad_asientos',\n",
    "]\n",
    "\n",
    "\n",
    "def tree_extract_inputs(dataset):\n",
    "    \"\"\"\n",
    "    Inputs in the format supported by the logistic regressor.\n",
    "    \"\"\"\n",
    "    # we don't want to modify the original dataset, that we will use with other models\n",
    "    inputs = dataset.copy()\n",
    "   \n",
    "    # return the raw numbers\n",
    "    return inputs[TREE_INPUT_COLUMNS].values\n",
    "\n",
    "def tree_extract_outputs(dataset):\n",
    "    \"\"\"\n",
    "    Outputs in the format supported by the logistic regressor.\n",
    "    \"\"\"\n",
    "    return dataset.categoria_auto.values"
   ]
  },
  {
   "cell_type": "code",
   "execution_count": 32,
   "metadata": {},
   "outputs": [],
   "source": [
    "tree_model = DecisionTreeClassifier()\n",
    "# max_depth=3?"
   ]
  },
  {
   "cell_type": "code",
   "execution_count": 33,
   "metadata": {},
   "outputs": [
    {
     "data": {
      "text/plain": [
       "DecisionTreeClassifier(class_weight=None, criterion='gini', max_depth=None,\n",
       "            max_features=None, max_leaf_nodes=None,\n",
       "            min_impurity_decrease=0.0, min_impurity_split=None,\n",
       "            min_samples_leaf=1, min_samples_split=2,\n",
       "            min_weight_fraction_leaf=0.0, presort=False, random_state=None,\n",
       "            splitter='best')"
      ]
     },
     "execution_count": 33,
     "metadata": {},
     "output_type": "execute_result"
    }
   ],
   "source": [
    "tree_model.fit(\n",
    "    tree_extract_inputs(train),\n",
    "    tree_extract_outputs(train),\n",
    ")"
   ]
  },
  {
   "cell_type": "code",
   "execution_count": 34,
   "metadata": {
    "scrolled": false
   },
   "outputs": [
    {
     "name": "stdout",
     "output_type": "stream",
     "text": [
      "train ################################################################################\n",
      "Accuracy: 0.970360717697\n",
      "precision_score 0.968105010012\n",
      "recall 0.96817753176\n",
      "\n"
     ]
    },
    {
     "data": {
      "image/png": "[encoded data removed]",
      "text/plain": [
       "<matplotlib.figure.Figure at 0x7f0c8621f940>"
      ]
     },
     "metadata": {},
     "output_type": "display_data"
    },
    {
     "name": "stdout",
     "output_type": "stream",
     "text": [
      "test ################################################################################\n",
      "Accuracy: 0.814719441791\n",
      "precision_score 0.797082105313\n",
      "recall 0.797236199649\n",
      "\n"
     ]
    },
    {
     "data": {
      "image/png": "[encoded data removed]",
      "text/plain": [
       "<matplotlib.figure.Figure at 0x7f0c8571d2e8>"
      ]
     },
     "metadata": {},
     "output_type": "display_data"
    },
    {
     "name": "stdout",
     "output_type": "stream",
     "text": [
      "validation ################################################################################\n",
      "Accuracy: 0.815742202102\n",
      "precision_score 0.798357295178\n",
      "recall 0.798734824534\n",
      "\n"
     ]
    },
    {
     "data": {
      "image/png": "[encoded data removed]",
      "text/plain": [
       "<matplotlib.figure.Figure at 0x7f0c85740160>"
      ]
     },
     "metadata": {},
     "output_type": "display_data"
    }
   ],
   "source": [
    "evaluate_model(tree_model, tree_extract_inputs, tree_extract_outputs)"
   ]
  },
  {
   "cell_type": "markdown",
   "metadata": {},
   "source": [
    "#### Conclusiones\n",
    "\n",
    "El modelo tiene una accuracy de 0,8147 en test y 0,8157 en validation. \n",
    "\n",
    "La métrica mejoró un poco si lo comparamos con el modelo anterior.\n",
    "\n",
    "Tiene problemas principalmente con los autos de tipo B, suele clasificar como A o C algunos autos que son de tipo B, y algunos autos de tipo A y C los clasifica como B. \n",
    "\n",
    "No se observa que cuando el auto es de tipo A arroje como predicción C, tampoco se observa que cuando el auto es de tipo C arroje A. Estos dos grupos los puede diferenciar bastante bien. \n"
   ]
  },
  {
   "cell_type": "markdown",
   "metadata": {},
   "source": [
    "### Tercer modelo: Random Forest"
   ]
  },
  {
   "cell_type": "code",
   "execution_count": 35,
   "metadata": {},
   "outputs": [],
   "source": [
    "from sklearn.ensemble import RandomForestClassifier"
   ]
  },
  {
   "cell_type": "code",
   "execution_count": 36,
   "metadata": {},
   "outputs": [],
   "source": [
    "forest_model = RandomForestClassifier(n_estimators = 15, max_features=6)\n",
    "# n_estimators? max_depth=3?, max_features=2?"
   ]
  },
  {
   "cell_type": "code",
   "execution_count": 37,
   "metadata": {},
   "outputs": [
    {
     "data": {
      "text/plain": [
       "RandomForestClassifier(bootstrap=True, class_weight=None, criterion='gini',\n",
       "            max_depth=None, max_features=6, max_leaf_nodes=None,\n",
       "            min_impurity_decrease=0.0, min_impurity_split=None,\n",
       "            min_samples_leaf=1, min_samples_split=2,\n",
       "            min_weight_fraction_leaf=0.0, n_estimators=15, n_jobs=1,\n",
       "            oob_score=False, random_state=None, verbose=0,\n",
       "            warm_start=False)"
      ]
     },
     "execution_count": 37,
     "metadata": {},
     "output_type": "execute_result"
    }
   ],
   "source": [
    "forest_model.fit(\n",
    "    tree_extract_inputs(train),\n",
    "    tree_extract_outputs(train),\n",
    ")"
   ]
  },
  {
   "cell_type": "code",
   "execution_count": 38,
   "metadata": {},
   "outputs": [
    {
     "name": "stdout",
     "output_type": "stream",
     "text": [
      "train ################################################################################\n",
      "Accuracy: 0.965859533995\n",
      "precision_score 0.964198437373\n",
      "recall 0.962158135178\n",
      "\n"
     ]
    },
    {
     "data": {
      "image/png": "[encoded data removed]",
      "text/plain": [
       "<matplotlib.figure.Figure at 0x7f0c85468ef0>"
      ]
     },
     "metadata": {},
     "output_type": "display_data"
    },
    {
     "name": "stdout",
     "output_type": "stream",
     "text": [
      "test ################################################################################\n",
      "Accuracy: 0.840978942559\n",
      "precision_score 0.826015836195\n",
      "recall 0.824071296563\n",
      "\n"
     ]
    },
    {
     "data": {
      "image/png": "[encoded data removed]",
      "text/plain": [
       "<matplotlib.figure.Figure at 0x7f0c8547d278>"
      ]
     },
     "metadata": {},
     "output_type": "display_data"
    },
    {
     "name": "stdout",
     "output_type": "stream",
     "text": [
      "validation ################################################################################\n",
      "Accuracy: 0.842188603231\n",
      "precision_score 0.827334306559\n",
      "recall 0.825771738082\n",
      "\n"
     ]
    },
    {
     "data": {
      "image/png": "[encoded data removed]",
      "text/plain": [
       "<matplotlib.figure.Figure at 0x7f0c851e9ba8>"
      ]
     },
     "metadata": {},
     "output_type": "display_data"
    }
   ],
   "source": [
    "evaluate_model(forest_model, tree_extract_inputs, tree_extract_outputs)"
   ]
  },
  {
   "cell_type": "markdown",
   "metadata": {},
   "source": [
    "#### Conclusiones \n",
    "\n",
    "Este modelo llega a obtener una accuracy de 0,8410 en test y 0,8422 en validation. \n",
    "\n",
    "Esto puede deberse a que Random Forest implica una mejora ante los tradicionales árboles de decisión, ya que posee un mayor número de estimadores base, se puede definir la cantidad de variables a utilizar en cada split, y también se le puede definir los mismos parámetros que a los árboles.\n",
    "\n",
    "Posee el mismo problema que los modelos anteriores en cuanto a los autos de categoria B."
   ]
  },
  {
   "cell_type": "markdown",
   "metadata": {},
   "source": [
    "### Cuarto modelo: Gradient Boosting"
   ]
  },
  {
   "cell_type": "code",
   "execution_count": 39,
   "metadata": {},
   "outputs": [],
   "source": [
    "from sklearn.ensemble import GradientBoostingClassifier"
   ]
  },
  {
   "cell_type": "code",
   "execution_count": 40,
   "metadata": {},
   "outputs": [],
   "source": [
    "boost_model = GradientBoostingClassifier()"
   ]
  },
  {
   "cell_type": "code",
   "execution_count": 41,
   "metadata": {},
   "outputs": [
    {
     "data": {
      "text/plain": [
       "GradientBoostingClassifier(criterion='friedman_mse', init=None,\n",
       "              learning_rate=0.1, loss='deviance', max_depth=3,\n",
       "              max_features=None, max_leaf_nodes=None,\n",
       "              min_impurity_decrease=0.0, min_impurity_split=None,\n",
       "              min_samples_leaf=1, min_samples_split=2,\n",
       "              min_weight_fraction_leaf=0.0, n_estimators=100,\n",
       "              presort='auto', random_state=None, subsample=1.0, verbose=0,\n",
       "              warm_start=False)"
      ]
     },
     "execution_count": 41,
     "metadata": {},
     "output_type": "execute_result"
    }
   ],
   "source": [
    "boost_model.fit(\n",
    "    tree_extract_inputs(train),\n",
    "    tree_extract_outputs(train),\n",
    ")"
   ]
  },
  {
   "cell_type": "code",
   "execution_count": 42,
   "metadata": {},
   "outputs": [
    {
     "name": "stdout",
     "output_type": "stream",
     "text": [
      "train ################################################################################\n",
      "Accuracy: 0.838038722986\n",
      "precision_score 0.824298092307\n",
      "recall 0.820874366664\n",
      "\n"
     ]
    },
    {
     "data": {
      "image/png": "[encoded data removed]",
      "text/plain": [
       "<matplotlib.figure.Figure at 0x7f0c8519c278>"
      ]
     },
     "metadata": {},
     "output_type": "display_data"
    },
    {
     "name": "stdout",
     "output_type": "stream",
     "text": [
      "test ################################################################################\n",
      "Accuracy: 0.836685425925\n",
      "precision_score 0.823178045387\n",
      "recall 0.819522002369\n",
      "\n"
     ]
    },
    {
     "data": {
      "image/png": "[encoded data removed]",
      "text/plain": [
       "<matplotlib.figure.Figure at 0x7f0c8515eb38>"
      ]
     },
     "metadata": {},
     "output_type": "display_data"
    },
    {
     "name": "stdout",
     "output_type": "stream",
     "text": [
      "validation ################################################################################\n",
      "Accuracy: 0.837194210242\n",
      "precision_score 0.823757366085\n",
      "recall 0.820393614846\n",
      "\n"
     ]
    },
    {
     "data": {
      "image/png": "[encoded data removed]",
      "text/plain": [
       "<matplotlib.figure.Figure at 0x7f0c85189748>"
      ]
     },
     "metadata": {},
     "output_type": "display_data"
    }
   ],
   "source": [
    "evaluate_model(boost_model, tree_extract_inputs, tree_extract_outputs)"
   ]
  },
  {
   "cell_type": "markdown",
   "metadata": {},
   "source": [
    "#### Conclusiones\n",
    "\n",
    "La duración al ejecutar este modelo es notablemente mayor a los demás.\n",
    "\n",
    "Este algoritmo arroja una accuracy de 0,8367 en test y 0,8372 en validation, valores similares a los obtenidos en el modelo anterior. \n",
    "\n",
    "Esto puede deberse a que el modelo utiliza árboles como estimadores base, y la idea es ir ajustando estos estimadores base utilizando los errores del modelo previo como variable a predecir. \n",
    "\n",
    "No definimos parámetros como n_estimators ni max_depth ya que el entrenamiento del modelo se hacia demasiado largo."
   ]
  },
  {
   "cell_type": "markdown",
   "metadata": {},
   "source": [
    "### Valor final de la métrica\n",
    "\n",
    "Si comparamos los diferentes modelos, Random Forest es el que mayor accuracy obtiene con un 84% aproximadamente tanto en test como en validation, y otra ventaja que tiene es que su tiempo de ejecución o entrenamiento no es tan alto comparado con el modelo de Gradient Boosting. Por estos motivos vamos a elegir a Random Forest como el modelo a utilizar para este problema.\n",
    "\n",
    "Para determinar el valor final que deberíamos \"prometerle\" a un posible cliente vamos a realizar varias iteraciones entrenando y prediciendo el modelo, para poder obtener un promedio de las distintas accuracy que obtuvo. "
   ]
  },
  {
   "cell_type": "code",
   "execution_count": 43,
   "metadata": {},
   "outputs": [
    {
     "name": "stdout",
     "output_type": "stream",
     "text": [
      "La accuracy promedio al realizar 10 iteraciones en test es de: 0.841783133281\n",
      "La accuracy promedio al realizar 10 iteraciones en validation es de: 0.841976782822\n"
     ]
    }
   ],
   "source": [
    "accuracy_total_test = 0\n",
    "accuracy_total_validation = 0\n",
    "\n",
    "for i in range(10):\n",
    "    \n",
    "    \"\"\"Generamos nuevamente los set de datos. \n",
    "    No hacemos nuevamente el read_csv ya que deberíamos ejecutar todo el pre-procesado nuevamente.\"\"\"\n",
    "    train, not_train = train_test_split(datos, test_size=0.4)\n",
    "    validation, test = train_test_split(not_train, test_size=0.5)\n",
    "    \n",
    "    forest_model = RandomForestClassifier(n_estimators = 15, max_features=6)\n",
    "    \n",
    "    forest_model.fit(\n",
    "    tree_extract_inputs(train),\n",
    "    tree_extract_outputs(train),\n",
    "    )\n",
    "    \n",
    "    inputs = tree_extract_inputs(test)\n",
    "    outputs = tree_extract_outputs(test)\n",
    "    predictions = forest_model.predict(inputs)\n",
    "    \n",
    "    accuracy_total_test += accuracy_score(outputs, predictions)\n",
    "    \n",
    "    inputs = tree_extract_inputs(validation)\n",
    "    outputs = tree_extract_outputs(validation)\n",
    "    predictions = forest_model.predict(inputs)\n",
    "        \n",
    "    accuracy_total_validation += accuracy_score(outputs, predictions)\n",
    "    \n",
    "print('La accuracy promedio al realizar 10 iteraciones en test es de: ' + str(accuracy_total_test/10))\n",
    "print('La accuracy promedio al realizar 10 iteraciones en validation es de: ' + str(accuracy_total_validation/10))\n",
    "\n",
    "    \n",
    "    \n",
    "    \n",
    "    \n",
    "    \n",
    "    "
   ]
  },
  {
   "cell_type": "markdown",
   "metadata": {},
   "source": [
    "La métrica concuerda con lo que obtuvimos al realizar la primer iteración, cuando presentamos el modelo, por lo que es un valor bastante estable.\n",
    "\n",
    "Con este procedimiento podemos decir que el valor final de accuracy es de 0,84 o 84%. \n",
    "\n",
    "Como conclusión final del TP podemos decir que, tal como se dijo varias veces en clases, lo más complejo fue realizar el pre-procesado de los datos, debido a que teníamos que tomar distintas decisiones con los datos que, por falta de tiempos y experiencia, pueden no haber sido las mejores. El dataset que elegimos no estaba del todo limpio o balanceado como lo que veníamos trabajando, sin embargo podemos decir que logramos obtener resultados regulares o relativamente buenos. "
   ]
  }
 ],
 "metadata": {
  "kernelspec": {
   "display_name": "Python 3",
   "language": "python",
   "name": "python3"
  },
  "language_info": {
   "codemirror_mode": {
    "name": "ipython",
    "version": 3
   },
   "file_extension": ".py",
   "mimetype": "text/x-python",
   "name": "python",
   "nbconvert_exporter": "python",
   "pygments_lexer": "ipython3",
   "version": "3.5.2"
  }
 },
 "nbformat": 4,
 "nbformat_minor": 2
}
